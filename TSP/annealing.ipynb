{
 "cells": [
  {
   "cell_type": "code",
   "execution_count": 53,
   "metadata": {},
   "outputs": [],
   "source": [
    "import numpy as np\n",
    "\n",
    "N = 5\n",
    "# 比特数2^N\n",
    "n_qubits = N**2\n",
    "\n",
    "# 距离矩阵\n",
    "D = np.array([[0,  13, 11, 15, 8],\n",
    "              [13, 0,  7,  14, 9],\n",
    "              [11, 7,  0,  10, 9],\n",
    "              [15, 14, 10, 0,  12],\n",
    "              [8,  9,  9,  12, 0]])\n",
    "\n",
    "# 约束权重\n",
    "lambda_val = np.max(D)\n",
    "\n",
    "# 初始化QUBO矩阵\n",
    "Q = np.zeros((n_qubits, n_qubits))\n",
    "\n",
    "# 填充路径代价项\n",
    "for t in range(N-1):\n",
    "    for c1 in range(N):\n",
    "        for c2 in range(N):\n",
    "            Q[N*t + c1, N*(t+1) + c2] += D[c1, c2]\n",
    "\n",
    "# 添加约束项\n",
    "for t in range(N):\n",
    "    for c1 in range(N):\n",
    "        for c2 in range(N):\n",
    "            Q[N*t + c1, N*t + c2] += lambda_val * (-1 if c1 == c2 else 1)\n",
    "\n",
    "for c in range(N):\n",
    "    for t1 in range(N):\n",
    "        for t2 in range(N):\n",
    "            Q[N*t1 + c, N*t2 + c] += lambda_val * (-1 if t1 == t2 else 1)"
   ]
  },
  {
   "cell_type": "code",
   "execution_count": 54,
   "metadata": {},
   "outputs": [],
   "source": [
    "import openjij as oj\n",
    "\n",
    "# 转换为 OpenJij 的 BinaryQuadraticModel\n",
    "bqm = oj.BinaryQuadraticModel.from_numpy_matrix(\n",
    "    Q, \n",
    "    vartype='BINARY'  # 变量类型：二值 (0或1)\n",
    ")"
   ]
  },
  {
   "cell_type": "code",
   "execution_count": 55,
   "metadata": {},
   "outputs": [
    {
     "name": "stdout",
     "output_type": "stream",
     "text": [
      "    0  1  2  3  4  5  6  7  8  9 10 11 12 13 14 15 16 17 ... 24 energy num_oc.\n",
      "0   1  0  0  0  0  0  0  0  0  1  0  1  0  0  0  0  0  1 ...  0 -116.0       1\n",
      "5   1  0  0  0  0  0  0  0  0  1  0  1  0  0  0  0  0  1 ...  0 -116.0       1\n",
      "18  1  0  0  0  0  0  0  0  0  1  0  1  0  0  0  0  0  1 ...  0 -116.0       1\n",
      "19  1  0  0  0  0  0  0  0  0  1  0  1  0  0  0  0  0  1 ...  0 -116.0       1\n",
      "2   0  1  0  0  0  0  0  1  0  0  0  0  0  1  0  0  0  0 ...  0 -113.0       1\n",
      "8   1  0  0  0  0  0  0  0  0  1  0  0  0  1  0  0  0  1 ...  0 -113.0       1\n",
      "4   0  0  0  1  0  0  1  0  0  0  0  0  1  0  0  0  0  0 ...  0 -112.0       1\n",
      "9   0  1  0  0  0  0  0  0  0  1  1  0  0  0  0  0  0  1 ...  0 -112.0       1\n",
      "11  0  0  0  1  0  0  0  1  0  0  1  0  0  0  0  0  0  0 ...  0 -112.0       1\n",
      "13  1  0  0  0  0  0  0  0  0  1  0  0  1  0  0  0  1  0 ...  0 -112.0       1\n",
      "6   0  0  0  1  0  1  0  0  0  0  0  0  0  0  1  0  0  1 ...  0 -111.0       1\n",
      "12  0  0  0  1  0  0  0  0  0  1  0  1  0  0  0  0  0  1 ...  0 -111.0       1\n",
      "14  0  0  0  1  0  0  1  0  0  0  0  0  1  0  0  1  0  0 ...  1 -110.0       1\n",
      "15  0  0  0  1  0  0  0  1  0  0  0  0  0  0  1  1  0  0 ...  0 -110.0       1\n",
      "16  1  0  0  0  0  0  0  0  0  1  0  0  0  1  0  0  1  0 ...  0 -109.0       1\n",
      "3   0  0  0  0  1  0  1  0  0  0  0  0  1  0  0  1  0  0 ...  0 -108.0       1\n",
      "17  1  0  0  0  0  0  0  0  1  0  0  0  1  0  0  0  0  0 ...  0 -107.0       1\n",
      "7   1  0  0  0  0  0  0  0  1  0  0  1  0  0  0  0  0  1 ...  1 -105.0       1\n",
      "1   0  0  1  0  0  0  0  0  0  1  0  1  0  0  0  1  0  0 ...  0 -104.0       1\n",
      "10  0  0  1  0  0  0  0  0  0  1  0  1  0  0  0  1  0  0 ...  0 -104.0       1\n",
      "['BINARY', 20 rows, 20 samples, 25 variables]\n"
     ]
    }
   ],
   "source": [
    "# 创建模拟退火采样器\n",
    "sampler = oj.SASampler()\n",
    "\n",
    "# 执行退火（默认参数）\n",
    "sampleset = sampler.sample(bqm, num_reads=20)\n",
    "\n",
    "# 查看结果\n",
    "print(sampleset)"
   ]
  },
  {
   "cell_type": "code",
   "execution_count": 56,
   "metadata": {},
   "outputs": [
    {
     "name": "stdout",
     "output_type": "stream",
     "text": [
      "最优路径: A->C->D->E->B\n"
     ]
    }
   ],
   "source": [
    "best_solution = sampleset.first.sample\n",
    "\n",
    "# 解码函数\n",
    "def decode_tsp(solution):\n",
    "    cities = ['A', 'B', 'C', 'D', 'E']\n",
    "    path = [''] * N\n",
    "    for idx, val in solution.items():\n",
    "        if val == 1:\n",
    "            time_step = idx % N\n",
    "            city_idx = idx // N\n",
    "            path[time_step] = cities[city_idx]\n",
    "    return '->'.join(path) if all(path) else \"无效路径\"\n",
    "\n",
    "# 验证并输出\n",
    "decoded_path = decode_tsp(best_solution)\n",
    "if len(set(decoded_path.split('->'))) == N:\n",
    "    print(\"最优路径:\", decoded_path)\n",
    "else:\n",
    "    print(\"未找到合法路径，请检查QUBO约束权重\")\n",
    "    print(\"当前激活比特:\", [k for k, v in best_solution.items() if v == 1])"
   ]
  }
 ],
 "metadata": {
  "kernelspec": {
   "display_name": "ML",
   "language": "python",
   "name": "ml"
  },
  "language_info": {
   "codemirror_mode": {
    "name": "ipython",
    "version": 3
   },
   "file_extension": ".py",
   "mimetype": "text/x-python",
   "name": "python",
   "nbconvert_exporter": "python",
   "pygments_lexer": "ipython3",
   "version": "3.8.20"
  }
 },
 "nbformat": 4,
 "nbformat_minor": 4
}
